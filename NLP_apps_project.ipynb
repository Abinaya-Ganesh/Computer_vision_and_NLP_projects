{
  "cells": [
    {
      "cell_type": "markdown",
      "metadata": {
        "id": "shChwsXNPGTw"
      },
      "source": [
        "**Installing necessary Libraries**"
      ]
    },
    {
      "cell_type": "code",
      "execution_count": null,
      "metadata": {
        "colab": {
          "base_uri": "https://localhost:8080/"
        },
        "id": "16_mexHzO1Ux",
        "outputId": "9b945a9a-6495-4e12-dcd6-9f3f2d6c3af7"
      },
      "outputs": [
        {
          "name": "stdout",
          "output_type": "stream",
          "text": [
            "Collecting diffusers\n",
            "  Downloading diffusers-0.29.2-py3-none-any.whl (2.2 MB)\n",
            "\u001b[2K     \u001b[90m━━━━━━━━━━━━━━━━━━━━━━━━━━━━━━━━━━━━━━━━\u001b[0m \u001b[32m2.2/2.2 MB\u001b[0m \u001b[31m10.2 MB/s\u001b[0m eta \u001b[36m0:00:00\u001b[0m\n",
            "\u001b[?25hRequirement already satisfied: transformers in /usr/local/lib/python3.10/dist-packages (4.41.2)\n",
            "Requirement already satisfied: torch in /usr/local/lib/python3.10/dist-packages (2.3.0+cu121)\n",
            "Requirement already satisfied: importlib-metadata in /usr/local/lib/python3.10/dist-packages (from diffusers) (8.0.0)\n",
            "Requirement already satisfied: filelock in /usr/local/lib/python3.10/dist-packages (from diffusers) (3.15.4)\n",
            "Requirement already satisfied: huggingface-hub>=0.23.2 in /usr/local/lib/python3.10/dist-packages (from diffusers) (0.23.4)\n",
            "Requirement already satisfied: numpy in /usr/local/lib/python3.10/dist-packages (from diffusers) (1.25.2)\n",
            "Requirement already satisfied: regex!=2019.12.17 in /usr/local/lib/python3.10/dist-packages (from diffusers) (2024.5.15)\n",
            "Requirement already satisfied: requests in /usr/local/lib/python3.10/dist-packages (from diffusers) (2.31.0)\n",
            "Requirement already satisfied: safetensors>=0.3.1 in /usr/local/lib/python3.10/dist-packages (from diffusers) (0.4.3)\n",
            "Requirement already satisfied: Pillow in /usr/local/lib/python3.10/dist-packages (from diffusers) (9.4.0)\n",
            "Requirement already satisfied: packaging>=20.0 in /usr/local/lib/python3.10/dist-packages (from transformers) (24.1)\n",
            "Requirement already satisfied: pyyaml>=5.1 in /usr/local/lib/python3.10/dist-packages (from transformers) (6.0.1)\n",
            "Requirement already satisfied: tokenizers<0.20,>=0.19 in /usr/local/lib/python3.10/dist-packages (from transformers) (0.19.1)\n",
            "Requirement already satisfied: tqdm>=4.27 in /usr/local/lib/python3.10/dist-packages (from transformers) (4.66.4)\n",
            "Requirement already satisfied: typing-extensions>=4.8.0 in /usr/local/lib/python3.10/dist-packages (from torch) (4.12.2)\n",
            "Requirement already satisfied: sympy in /usr/local/lib/python3.10/dist-packages (from torch) (1.12.1)\n",
            "Requirement already satisfied: networkx in /usr/local/lib/python3.10/dist-packages (from torch) (3.3)\n",
            "Requirement already satisfied: jinja2 in /usr/local/lib/python3.10/dist-packages (from torch) (3.1.4)\n",
            "Requirement already satisfied: fsspec in /usr/local/lib/python3.10/dist-packages (from torch) (2023.6.0)\n",
            "Collecting nvidia-cuda-nvrtc-cu12==12.1.105 (from torch)\n",
            "  Using cached nvidia_cuda_nvrtc_cu12-12.1.105-py3-none-manylinux1_x86_64.whl (23.7 MB)\n",
            "Collecting nvidia-cuda-runtime-cu12==12.1.105 (from torch)\n",
            "  Using cached nvidia_cuda_runtime_cu12-12.1.105-py3-none-manylinux1_x86_64.whl (823 kB)\n",
            "Collecting nvidia-cuda-cupti-cu12==12.1.105 (from torch)\n",
            "  Using cached nvidia_cuda_cupti_cu12-12.1.105-py3-none-manylinux1_x86_64.whl (14.1 MB)\n",
            "Collecting nvidia-cudnn-cu12==8.9.2.26 (from torch)\n",
            "  Using cached nvidia_cudnn_cu12-8.9.2.26-py3-none-manylinux1_x86_64.whl (731.7 MB)\n",
            "Collecting nvidia-cublas-cu12==12.1.3.1 (from torch)\n",
            "  Using cached nvidia_cublas_cu12-12.1.3.1-py3-none-manylinux1_x86_64.whl (410.6 MB)\n",
            "Collecting nvidia-cufft-cu12==11.0.2.54 (from torch)\n",
            "  Using cached nvidia_cufft_cu12-11.0.2.54-py3-none-manylinux1_x86_64.whl (121.6 MB)\n",
            "Collecting nvidia-curand-cu12==10.3.2.106 (from torch)\n",
            "  Using cached nvidia_curand_cu12-10.3.2.106-py3-none-manylinux1_x86_64.whl (56.5 MB)\n",
            "Collecting nvidia-cusolver-cu12==11.4.5.107 (from torch)\n",
            "  Using cached nvidia_cusolver_cu12-11.4.5.107-py3-none-manylinux1_x86_64.whl (124.2 MB)\n",
            "Collecting nvidia-cusparse-cu12==12.1.0.106 (from torch)\n",
            "  Using cached nvidia_cusparse_cu12-12.1.0.106-py3-none-manylinux1_x86_64.whl (196.0 MB)\n",
            "Collecting nvidia-nccl-cu12==2.20.5 (from torch)\n",
            "  Using cached nvidia_nccl_cu12-2.20.5-py3-none-manylinux2014_x86_64.whl (176.2 MB)\n",
            "Collecting nvidia-nvtx-cu12==12.1.105 (from torch)\n",
            "  Using cached nvidia_nvtx_cu12-12.1.105-py3-none-manylinux1_x86_64.whl (99 kB)\n",
            "Requirement already satisfied: triton==2.3.0 in /usr/local/lib/python3.10/dist-packages (from torch) (2.3.0)\n",
            "Collecting nvidia-nvjitlink-cu12 (from nvidia-cusolver-cu12==11.4.5.107->torch)\n",
            "  Downloading nvidia_nvjitlink_cu12-12.5.82-py3-none-manylinux2014_x86_64.whl (21.3 MB)\n",
            "\u001b[2K     \u001b[90m━━━━━━━━━━━━━━━━━━━━━━━━━━━━━━━━━━━━━━━━\u001b[0m \u001b[32m21.3/21.3 MB\u001b[0m \u001b[31m56.0 MB/s\u001b[0m eta \u001b[36m0:00:00\u001b[0m\n",
            "\u001b[?25hRequirement already satisfied: zipp>=0.5 in /usr/local/lib/python3.10/dist-packages (from importlib-metadata->diffusers) (3.19.2)\n",
            "Requirement already satisfied: MarkupSafe>=2.0 in /usr/local/lib/python3.10/dist-packages (from jinja2->torch) (2.1.5)\n",
            "Requirement already satisfied: charset-normalizer<4,>=2 in /usr/local/lib/python3.10/dist-packages (from requests->diffusers) (3.3.2)\n",
            "Requirement already satisfied: idna<4,>=2.5 in /usr/local/lib/python3.10/dist-packages (from requests->diffusers) (3.7)\n",
            "Requirement already satisfied: urllib3<3,>=1.21.1 in /usr/local/lib/python3.10/dist-packages (from requests->diffusers) (2.0.7)\n",
            "Requirement already satisfied: certifi>=2017.4.17 in /usr/local/lib/python3.10/dist-packages (from requests->diffusers) (2024.6.2)\n",
            "Requirement already satisfied: mpmath<1.4.0,>=1.1.0 in /usr/local/lib/python3.10/dist-packages (from sympy->torch) (1.3.0)\n",
            "Installing collected packages: nvidia-nvtx-cu12, nvidia-nvjitlink-cu12, nvidia-nccl-cu12, nvidia-curand-cu12, nvidia-cufft-cu12, nvidia-cuda-runtime-cu12, nvidia-cuda-nvrtc-cu12, nvidia-cuda-cupti-cu12, nvidia-cublas-cu12, nvidia-cusparse-cu12, nvidia-cudnn-cu12, nvidia-cusolver-cu12, diffusers\n",
            "Successfully installed diffusers-0.29.2 nvidia-cublas-cu12-12.1.3.1 nvidia-cuda-cupti-cu12-12.1.105 nvidia-cuda-nvrtc-cu12-12.1.105 nvidia-cuda-runtime-cu12-12.1.105 nvidia-cudnn-cu12-8.9.2.26 nvidia-cufft-cu12-11.0.2.54 nvidia-curand-cu12-10.3.2.106 nvidia-cusolver-cu12-11.4.5.107 nvidia-cusparse-cu12-12.1.0.106 nvidia-nccl-cu12-2.20.5 nvidia-nvjitlink-cu12-12.5.82 nvidia-nvtx-cu12-12.1.105\n"
          ]
        }
      ],
      "source": [
        "!pip install diffusers transformers torch"
      ]
    },
    {
      "cell_type": "code",
      "execution_count": 1,
      "metadata": {
        "colab": {
          "base_uri": "https://localhost:8080/"
        },
        "collapsed": true,
        "id": "uAdQr_F10EJV",
        "outputId": "e22d3d83-1410-4f9c-dd6e-f5a11895ddff"
      },
      "outputs": [
        {
          "name": "stdout",
          "output_type": "stream",
          "text": [
            "\u001b[2K     \u001b[90m━━━━━━━━━━━━━━━━━━━━━━━━━━━━━━━━━━━━━━━━\u001b[0m \u001b[32m8.6/8.6 MB\u001b[0m \u001b[31m30.8 MB/s\u001b[0m eta \u001b[36m0:00:00\u001b[0m\n",
            "\u001b[2K     \u001b[90m━━━━━━━━━━━━━━━━━━━━━━━━━━━━━━━━━━━━━━━━\u001b[0m \u001b[32m207.3/207.3 kB\u001b[0m \u001b[31m11.1 MB/s\u001b[0m eta \u001b[36m0:00:00\u001b[0m\n",
            "\u001b[2K     \u001b[90m━━━━━━━━━━━━━━━━━━━━━━━━━━━━━━━━━━━━━━━━\u001b[0m \u001b[32m6.9/6.9 MB\u001b[0m \u001b[31m42.3 MB/s\u001b[0m eta \u001b[36m0:00:00\u001b[0m\n",
            "\u001b[2K     \u001b[90m━━━━━━━━━━━━━━━━━━━━━━━━━━━━━━━━━━━━━━━━\u001b[0m \u001b[32m83.0/83.0 kB\u001b[0m \u001b[31m3.0 MB/s\u001b[0m eta \u001b[36m0:00:00\u001b[0m\n",
            "\u001b[2K     \u001b[90m━━━━━━━━━━━━━━━━━━━━━━━━━━━━━━━━━━━━━━━━\u001b[0m \u001b[32m62.7/62.7 kB\u001b[0m \u001b[31m2.8 MB/s\u001b[0m eta \u001b[36m0:00:00\u001b[0m\n",
            "\u001b[?25h"
          ]
        }
      ],
      "source": [
        "! pip install streamlit -q"
      ]
    },
    {
      "cell_type": "code",
      "execution_count": 2,
      "metadata": {
        "colab": {
          "base_uri": "https://localhost:8080/"
        },
        "collapsed": true,
        "id": "2ZOq-98w4CZH",
        "outputId": "424230d8-3448-4ccc-fd36-c24e16ffe04d"
      },
      "outputs": [
        {
          "name": "stdout",
          "output_type": "stream",
          "text": [
            "Collecting npx\n",
            "  Downloading npx-0.1.6-py3-none-any.whl (10 kB)\n",
            "Requirement already satisfied: numpy>=1.20.0 in /usr/local/lib/python3.10/dist-packages (from npx) (1.25.2)\n",
            "Installing collected packages: npx\n",
            "Successfully installed npx-0.1.6\n"
          ]
        }
      ],
      "source": [
        "! pip install npx"
      ]
    },
    {
      "cell_type": "markdown",
      "metadata": {
        "id": "7PsKQETrPqAa"
      },
      "source": [
        "**Saving the necessary pretrained models for various applications**"
      ]
    },
    {
      "cell_type": "markdown",
      "metadata": {
        "id": "ig4gqvN3wPGG"
      },
      "source": [
        "### Next Word Prediction using GPT-2"
      ]
    },
    {
      "cell_type": "code",
      "execution_count": null,
      "metadata": {
        "id": "akpKnD9AXwg6"
      },
      "outputs": [],
      "source": [
        "from transformers import GPT2LMHeadModel, GPT2Tokenizer\n",
        "import torch\n",
        "\n",
        "# Load the tokenizer and model\n",
        "tokenizer = GPT2Tokenizer.from_pretrained('gpt2')\n",
        "model = GPT2LMHeadModel.from_pretrained('gpt2')\n",
        "\n",
        "#Save the model and tokenizer\n",
        "torch.save(tokenizer, \"GPT2_tokenizer.pth\")\n",
        "torch.save(model, \"GPT2.pth\")"
      ]
    },
    {
      "cell_type": "markdown",
      "metadata": {
        "id": "6vcROn13wHA-"
      },
      "source": [
        "### Chatbot"
      ]
    },
    {
      "cell_type": "code",
      "execution_count": null,
      "metadata": {
        "id": "Kd5X8_GzLMF3"
      },
      "outputs": [],
      "source": [
        "from transformers import AutoModelForCausalLM, AutoTokenizer\n",
        "import torch\n",
        "\n",
        "# Load pre-trained model and tokenizer with padding set to left\n",
        "model_name = \"microsoft/DialoGPT-medium\"\n",
        "tokenizer = AutoTokenizer.from_pretrained(model_name, padding_side='left')\n",
        "model = AutoModelForCausalLM.from_pretrained(model_name)\n",
        "\n",
        "#Save the model and tokenizer\n",
        "torch.save(tokenizer, \"chatbot_tokenizer.pth\")\n",
        "torch.save(model, \"chatbot.pth\")"
      ]
    },
    {
      "cell_type": "markdown",
      "metadata": {
        "id": "NNxW5diFx40i"
      },
      "source": [
        "### Sentiment Analysis"
      ]
    },
    {
      "cell_type": "code",
      "execution_count": null,
      "metadata": {
        "collapsed": true,
        "id": "MavJSQ0AFtox"
      },
      "outputs": [],
      "source": [
        "from transformers import pipeline\n",
        "import torch\n",
        "\n",
        "# Load pre-trained sentiment-analysis pipeline\n",
        "model = pipeline(\"sentiment-analysis\")\n",
        "\n",
        "#Save the pipeline\n",
        "torch.save(model,\"sentiment_analysis.pth\")"
      ]
    },
    {
      "cell_type": "markdown",
      "metadata": {
        "id": "elIhyG_H0CvP"
      },
      "source": [
        "### Summary Generation"
      ]
    },
    {
      "cell_type": "code",
      "execution_count": null,
      "metadata": {
        "collapsed": true,
        "id": "QtKmjr9dDFHg"
      },
      "outputs": [],
      "source": [
        "from transformers import BartForConditionalGeneration, BartTokenizer\n",
        "import torch\n",
        "\n",
        "# Load pre-trained model and tokenizer\n",
        "model_name = \"facebook/bart-large-cnn\"\n",
        "tokenizer = BartTokenizer.from_pretrained(model_name)\n",
        "model = BartForConditionalGeneration.from_pretrained(model_name)\n",
        "\n",
        "#Save the model and tokenizer\n",
        "torch.save(tokenizer, \"summary_tokenizer.pth\")\n",
        "torch.save(model, \"summary.pth\")"
      ]
    },
    {
      "cell_type": "markdown",
      "metadata": {
        "id": "4OL_XPZzzDiS"
      },
      "source": [
        "### Question and Answer Model based on the given Context"
      ]
    },
    {
      "cell_type": "code",
      "execution_count": null,
      "metadata": {
        "collapsed": true,
        "id": "5rgEW7zWNcyP"
      },
      "outputs": [],
      "source": [
        "from transformers import AutoTokenizer, AutoModelForQuestionAnswering\n",
        "import torch\n",
        "\n",
        "# Load the pre-trained model and tokenizer\n",
        "model_name = \"bert-large-uncased-whole-word-masking-finetuned-squad\"\n",
        "tokenizer = AutoTokenizer.from_pretrained(model_name)\n",
        "model = AutoModelForQuestionAnswering.from_pretrained(model_name)\n",
        "\n",
        "#Save the model and tokenizer\n",
        "torch.save(tokenizer, \"QandA_tokenizer.pth\")\n",
        "torch.save(model, \"QandA.pth\")"
      ]
    },
    {
      "cell_type": "markdown",
      "metadata": {
        "id": "HSKVAJ9_Hh-r"
      },
      "source": [
        "### Image Generation"
      ]
    },
    {
      "cell_type": "code",
      "execution_count": null,
      "metadata": {
        "collapsed": true,
        "id": "Sj2SZZjxO8Kr"
      },
      "outputs": [],
      "source": [
        "from diffusers import StableDiffusionPipeline\n",
        "import torch\n",
        "\n",
        "# Load the pre-trained Stable Diffusion model\n",
        "model_id = \"CompVis/stable-diffusion-v1-4\"\n",
        "pipe = StableDiffusionPipeline.from_pretrained(model_id, torch_dtype=torch.float16).to(\"cuda\")\n",
        "\n",
        "#Save the model\n",
        "torch.save(pipe,\"image_generator.pth\")"
      ]
    },
    {
      "cell_type": "markdown",
      "metadata": {
        "id": "smhcnf0ozsqb"
      },
      "source": [
        "**Streamlit dashboard**"
      ]
    },
    {
      "cell_type": "code",
      "execution_count": 3,
      "metadata": {
        "colab": {
          "base_uri": "https://localhost:8080/"
        },
        "id": "0gketSg50uKV",
        "outputId": "9bb0df7f-9096-434a-bd20-a31c1aaf21c5"
      },
      "outputs": [
        {
          "name": "stdout",
          "output_type": "stream",
          "text": [
            "Writing app.py\n"
          ]
        }
      ],
      "source": [
        "%%writefile app.py\n",
        "import torch\n",
        "import streamlit as st\n",
        "\n",
        "##================================================/ USER DEFINED FUNCTIONS / ===============================================##\n",
        "#Predict next word\n",
        "def predict_next_word(prompt, model, tokenizer, top_k=5):\n",
        "    model.eval()\n",
        "    # Tokenize input text\n",
        "    inputs = tokenizer(prompt, return_tensors='pt')\n",
        "\n",
        "    # Generate predictions\n",
        "    with torch.no_grad():\n",
        "        outputs = model(**inputs)\n",
        "\n",
        "    # Get logits of the last token in the sequence\n",
        "    next_token_logits = outputs.logits[:, -1, :]\n",
        "\n",
        "    # Filter the top k tokens by their probability\n",
        "    top_k_tokens = torch.topk(next_token_logits, top_k).indices[0].tolist()\n",
        "\n",
        "    # Decode the top k tokens to their corresponding words\n",
        "    predicted_tokens = [tokenizer.decode([token]) for token in top_k_tokens]\n",
        "\n",
        "    return predicted_tokens\n",
        "\n",
        "\n",
        "#Generate text\n",
        "def generate_text(prompt, model, tokenizer, max_length=50):\n",
        "    generated = tokenizer.encode(prompt, return_tensors='pt')\n",
        "\n",
        "    model.eval()\n",
        "    with torch.no_grad():\n",
        "        for _ in range(max_length):\n",
        "            outputs = model(generated)\n",
        "            next_token_logits = outputs.logits[:, -1, :]\n",
        "            next_token = torch.argmax(next_token_logits, dim=-1)\n",
        "            generated = torch.cat((generated, next_token.unsqueeze(0)), dim=1)\n",
        "            if next_token == tokenizer.eos_token_id:\n",
        "                break\n",
        "\n",
        "    return tokenizer.decode(generated[0], skip_special_tokens=True)\n",
        "\n",
        "\n",
        "#Chatbot\n",
        "def chat_with_model(prompt, chat_history_ids, model, tokenizer):\n",
        "    model.eval()\n",
        "\n",
        "    # Encode the new user input, add the eos_token and return a tensor in PyTorch\n",
        "    new_user_input_ids = tokenizer.encode(prompt + tokenizer.eos_token, return_tensors='pt')\n",
        "\n",
        "    # Append the new user input tokens to the chat history\n",
        "    bot_input_ids = torch.cat([chat_history_ids, new_user_input_ids], dim=-1) if chat_history_ids is not None else new_user_input_ids\n",
        "\n",
        "    # Generate a response\n",
        "    chat_history_ids = model.generate(bot_input_ids, max_length=1000, pad_token_id=tokenizer.eos_token_id)\n",
        "\n",
        "    # Decode the response and print it\n",
        "    response = tokenizer.decode(chat_history_ids[:, bot_input_ids.shape[-1]:][0], skip_special_tokens=True)\n",
        "\n",
        "    return response, chat_history_ids\n",
        "\n",
        "\n",
        "#Text Summarization\n",
        "def summarize(text, model, tokenizer, max_length=130, min_length=30, do_sample=False):\n",
        "    model.eval()\n",
        "    inputs = tokenizer.encode(\"summarize: \" + text, return_tensors=\"pt\", max_length=1024, truncation=True)\n",
        "    summary_ids = model.generate(inputs, max_length=max_length, min_length=min_length, length_penalty=2.0, num_beams=4, early_stopping=True)\n",
        "    summary = tokenizer.decode(summary_ids[0], skip_special_tokens=True)\n",
        "    return summary\n",
        "\n",
        "\n",
        "#Question Answering\n",
        "def answer_question(question, context,model,tokenizer):\n",
        "    # Tokenize input question and context\n",
        "    inputs = tokenizer.encode_plus(question, context, add_special_tokens=True, return_tensors=\"pt\")\n",
        "\n",
        "    # Get input ids and attention mask\n",
        "    input_ids = inputs[\"input_ids\"].tolist()[0]\n",
        "\n",
        "    # Get the model's output\n",
        "    outputs = model(**inputs)\n",
        "    answer_start_scores = outputs.start_logits\n",
        "    answer_end_scores = outputs.end_logits\n",
        "\n",
        "    # Get the most likely beginning and end of answer with the argmax of the score\n",
        "    answer_start = torch.argmax(answer_start_scores)\n",
        "    answer_end = torch.argmax(answer_end_scores) + 1\n",
        "\n",
        "    # Convert tokens to the answer\n",
        "    answer = tokenizer.convert_tokens_to_string(tokenizer.convert_ids_to_tokens(input_ids[answer_start:answer_end]))\n",
        "\n",
        "    return answer\n",
        "\n",
        "\n",
        "#Image generation\n",
        "def generate_image(prompt, pipe):\n",
        "    with torch.no_grad():\n",
        "        image = pipe(prompt).images[0]\n",
        "    return image\n",
        "\n",
        "\n",
        "##================================================/ STREAMLIT DASHBOARD / ===============================================##\n",
        "\n",
        "#Page_configuration\n",
        "st.set_page_config(\n",
        "    page_title = 'NLP applications',\n",
        "    page_icon = '🖥️',\n",
        "    layout = 'wide')\n",
        "\n",
        "# st.sidebar.markdown(\"Hello! This is a Multi-functional NLP and Image Generation App⚛️\")\n",
        "st.sidebar.header(\":green[APPS]\")\n",
        "app = st.sidebar.selectbox(label='**Choose an app**',options = (\"Next Word Predictor\", \"Story Completion\",\n",
        "      \"Chatbot\", \"Sentiment Analysis\", \"Text Summarization\", \"Question Answering\", \"Image Generator\"),\n",
        "      index=None, key='app', placeholder=\"Select application\")\n",
        "\n",
        "if app == None:\n",
        "  st.header(\"Hello! This is a Multi-functional NLP and Image Generation App⚛️\")\n",
        "  st.write(\"Streamlit app ✅ created by Abinaya Ganesh\")\n",
        "\n",
        "#Predict_next_word\n",
        "if app == \"Next Word Predictor\":\n",
        "\n",
        "  st.sidebar.markdown(\"## :green[GUIDE]\")\n",
        "  st.sidebar.info(\"**Next Word Predictor app predicts few words that can be the next word for the text that you enter.**\")\n",
        "  st.sidebar.markdown(\"### :green[EXAMPLE]\")\n",
        "  st.sidebar.write(\"**Text given** - The quick brown fox was not very friendly\")\n",
        "  st.sidebar.write(\"**Next word predictions** - to/with/,/./and\")\n",
        "\n",
        "  st.subheader(\":green[**NEXT WORD PREDICTOR💭**]\")\n",
        "  prompt = st.text_input(\"**Enter the text to predict next word**\",key='prompt')\n",
        "  predict = st.button(label = '**Predict**', key='predict')\n",
        "\n",
        "  if predict:\n",
        "    #Load model\n",
        "    model = torch.load(\"GPT2.pth\")\n",
        "    tokenizer = torch.load(\"GPT2_tokenizer.pth\")\n",
        "\n",
        "    #Function call\n",
        "    predicted_words = predict_next_word(prompt, model, tokenizer)\n",
        "    st.write(f\"**The text you entered:** {prompt}\")\n",
        "    st.write(f\"**The predicted words are:** {'/'.join(predicted_words)}\")\n",
        "\n",
        "#Story completion\n",
        "if app == \"Story Completion\":\n",
        "\n",
        "  st.sidebar.markdown(\"## :green[GUIDE]\")\n",
        "  st.sidebar.info(\"**Story Completion app completes the piece of story that you enter with the maximum number of words being 50**\")\n",
        "  st.sidebar.markdown(\"### :green[EXAMPLE]\")\n",
        "  st.sidebar.write(\"**Text given** - The quick brown fox was about six months of\")\n",
        "  st.sidebar.write(\"**Completed story** - The quick brown fox was about six months of age when he was attacked by a group of wolves.\\\n",
        "  He was taken to the hospital where he was treated for a broken jaw and a broken leg.\")\n",
        "\n",
        "  st.subheader(\":green[**STORY COMPLETION APP📖**]\")\n",
        "  text = st.text_area(\"**Enter the text which you want the app to complete. Word limit - 20**\",key='text')\n",
        "  generate = st.button(label = '**Generate**', key='generate')\n",
        "\n",
        "  if generate:\n",
        "    #Load model\n",
        "    model = torch.load(\"GPT2.pth\")\n",
        "    tokenizer = torch.load(\"GPT2_tokenizer.pth\")\n",
        "\n",
        "    #Function call\n",
        "    generated_text = generate_text(text, model, tokenizer)\n",
        "    st.write(f\"**The completed text is:** \\n {generated_text}\")\n",
        "\n",
        "#Chatbot\n",
        "if app == \"Chatbot\":\n",
        "\n",
        "  st.sidebar.markdown(\"## :green[GUIDE]\")\n",
        "  st.sidebar.info(\"**This app is a chatbot. Start chatting with the bot!**\")\n",
        "\n",
        "  st.subheader(\":green[**CHAT BOT🤖**]\")\n",
        "\n",
        "  #Load model\n",
        "  tokenizer = torch.load(\"chatbot_tokenizer.pth\")\n",
        "  model = torch.load(\"chatbot.pth\")\n",
        "\n",
        "  chat_history_ids = None\n",
        "\n",
        "  # Initialize chat history\n",
        "  if \"messages\" not in st.session_state:\n",
        "      st.session_state.messages = []\n",
        "\n",
        "  # Display chat messages from history on app rerun\n",
        "  for message in st.session_state.messages:\n",
        "      with st.chat_message(message[\"role\"]):\n",
        "          st.markdown(message[\"content\"])\n",
        "\n",
        "  # React to user input\n",
        "  if prompt := st.chat_input(\"Say something\"):\n",
        "      # Display user message in chat message container\n",
        "      st.chat_message(\"user\").markdown(prompt)\n",
        "      # Add user message to chat history\n",
        "      st.session_state.messages.append({\"role\": \"user\", \"content\": prompt})\n",
        "\n",
        "      response, chat_history_ids = chat_with_model(prompt, chat_history_ids, model, tokenizer)\n",
        "      # Display assistant response in chat message container\n",
        "      with st.chat_message(\"assistant\"):\n",
        "          st.write(response)\n",
        "      # Add assistant response to chat history\n",
        "      st.session_state.messages.append({\"role\": \"assistant\", \"content\": response})\n",
        "\n",
        "\n",
        "#Sentiment Analysis\n",
        "if app == 'Sentiment Analysis':\n",
        "\n",
        "  st.sidebar.markdown(\"## :green[GUIDE]\")\n",
        "  st.sidebar.info(\"**Sentiment Analysis app provides a Positive or Negative anaysis along with a score for the text that you provide**\")\n",
        "  st.sidebar.markdown(\"### :green[EXAMPLE]\")\n",
        "  st.sidebar.write(\"**Text given** - The weather is gloomy and I feel sad.\")\n",
        "  st.sidebar.write(\"**Sentiment** - Negative\")\n",
        "\n",
        "  st.subheader(\":green[**SENTIMENT ANALYSIS😀/😔**]\")\n",
        "  sentiment_text = st.text_input(\"**Enter a sentence for sentiment analysis**\",key='sentiment_text')\n",
        "  analyse = st.button(\"**Analyse**\",key='analyse')\n",
        "\n",
        "  if analyse:\n",
        "    #Load model\n",
        "    model = torch.load(\"sentiment_analysis.pth\")\n",
        "\n",
        "    results = model(sentiment_text)\n",
        "    st.write(f\"**Text:** {sentiment_text}\")\n",
        "    st.write(f\"**Sentiment:** {results[0]['label']}, **Score:** {results[0]['score']:.4f}\")\n",
        "\n",
        "\n",
        "#Text Summarization\n",
        "if app == \"Text Summarization\":\n",
        "\n",
        "  st.sidebar.markdown(\"## :green[GUIDE]\")\n",
        "  st.sidebar.info(\"**Text Summarization app provides a summary of the paragraph that you enter. Word limit - 130**\")\n",
        "\n",
        "\n",
        "  st.subheader(\":green[**TEXT SUMMARIZATION📝**]\")\n",
        "  para = str(st.text_area(\"**Enter a paragraph to summarise**\",key='para'))\n",
        "  summary_bt = st.button(label='**Summarize**', key='summarize')\n",
        "\n",
        "  if summary_bt:\n",
        "    #Load model\n",
        "    tokenizer = torch.load(\"summary_tokenizer.pth\")\n",
        "    model = torch.load(\"summary.pth\")\n",
        "\n",
        "    #Function call\n",
        "    summary = summarize(para, model, tokenizer)\n",
        "    st.write(\"**Original text:**\\n\", para)\n",
        "    st.write(\"\\n**Summary:**\\n\", summary)\n",
        "\n",
        "\n",
        "#Question Answering\n",
        "if app == \"Question Answering\":\n",
        "\n",
        "  st.sidebar.markdown(\"## :green[GUIDE]\")\n",
        "  st.sidebar.info(\"This app answers the questions that you ask provided the context\")\n",
        "  st.sidebar.markdown(\"### :green[EXAMPLE]\")\n",
        "  st.sidebar.write(\"**Context** - The Transformers library by Hugging Face provides general-purpose architectures for Natural Language Understanding (NLU) and Natural Language Generation (NLG) with pretrained models in over 100 languages.\\\n",
        "  These models can be used on a variety of tasks, including text classification, information extraction, question answering, summarization, translation, and text generation.\")\n",
        "  st.sidebar.write(\"**Question** - What does the Transformers library provide?\")\n",
        "  st.sidebar.write(\"**Answer** - general - purpose architectures for natural language understanding ( nlu ) and natural language generation ( nlg )\")\n",
        "\n",
        "  st.subheader(\":green[**QUESTION ANSWERING❓**]\")\n",
        "  context = st.text_area(\"**Enter a paragraph that you want to ask questions from**\")\n",
        "  question = st.text_input(\"**Enter a question**\",key='question')\n",
        "  answer_bt = st.button(label = \"**Get Answer**\", key='answer_bt')\n",
        "\n",
        "  if answer_bt:\n",
        "    #Load model\n",
        "    tokenizer = torch.load(\"QandA_tokenizer.pth\")\n",
        "    model = model = torch.load(\"QandA.pth\")\n",
        "\n",
        "    #Function call\n",
        "    answer = answer_question(question, context,model,tokenizer)\n",
        "    st.write(f\"**Question:** {question}\")\n",
        "    st.write(f\"**Answer:** {answer}\")\n",
        "\n",
        "\n",
        "#Image Generation\n",
        "if app == \"Image Generator\":\n",
        "\n",
        "  st.sidebar.markdown(\"## :green[GUIDE]\")\n",
        "  st.sidebar.info(\"This app generates an image for the prompt given.\")\n",
        "  st.sidebar.markdown(\"### :green[EXAMPLE]\")\n",
        "  st.sidebar.write(\"**Prompt**: A futuristic cityscape at sunset\")\n",
        "\n",
        "  st.subheader(\":green[**IMAGE GENERATOR🖼️**]\")\n",
        "  prompt = st.text_input(\"**Enter a prompt**\",key='prompt')\n",
        "  image_bt = st.button(\"**Generate**\",key='image')\n",
        "\n",
        "\n",
        "  if image_bt:\n",
        "    #Load model\n",
        "    pipe = torch.load(\"image_generator.pth\")\n",
        "\n",
        "    #Function call\n",
        "    image = generate_image(prompt, pipe)\n",
        "\n",
        "    st.image(image, caption=prompt)\n"
      ]
    },
    {
      "cell_type": "markdown",
      "metadata": {
        "id": "V7zkPaYTP_gP"
      },
      "source": [
        "**Create a local tunnel and run Streamlit app**"
      ]
    },
    {
      "cell_type": "code",
      "execution_count": 4,
      "metadata": {
        "colab": {
          "base_uri": "https://localhost:8080/"
        },
        "id": "EgJn5cur0qRm",
        "outputId": "68319513-16db-4b73-dcda-c49759bd3a5d"
      },
      "outputs": [
        {
          "name": "stdout",
          "output_type": "stream",
          "text": [
            "35.196.77.43\n"
          ]
        }
      ],
      "source": [
        "!wget -q -O - ipv4.icanhazip.com"
      ]
    },
    {
      "cell_type": "code",
      "execution_count": 5,
      "metadata": {
        "colab": {
          "base_uri": "https://localhost:8080/"
        },
        "collapsed": true,
        "id": "kPf88xAW09rD",
        "outputId": "f9227703-af74-4eb9-aeaa-38f39110a63a"
      },
      "outputs": [
        {
          "name": "stdout",
          "output_type": "stream",
          "text": [
            "\n",
            "Collecting usage statistics. To deactivate, set browser.gatherUsageStats to false.\n",
            "\u001b[0m\n",
            "\u001b[0m\n",
            "\u001b[34m\u001b[1m  You can now view your Streamlit app in your browser.\u001b[0m\n",
            "\u001b[0m\n",
            "\u001b[34m  Local URL: \u001b[0m\u001b[1mhttp://localhost:8501\u001b[0m\n",
            "\u001b[34m  Network URL: \u001b[0m\u001b[1mhttp://172.28.0.12:8501\u001b[0m\n",
            "\u001b[34m  External URL: \u001b[0m\u001b[1mhttp://35.196.77.43:8501\u001b[0m\n",
            "\u001b[0m\n",
            "\u001b[K\u001b[?25hnpx: installed 22 in 8.055s\n",
            "your url is: https://cold-clocks-doubt.loca.lt\n",
            "\u001b[34m  Stopping...\u001b[0m\n",
            "^C\n"
          ]
        }
      ],
      "source": [
        "!streamlit run app.py & npx localtunnel --port 8501"
      ]
    }
  ],
  "metadata": {
    "colab": {
      "provenance": []
    },
    "kernelspec": {
      "display_name": "Python 3",
      "name": "python3"
    },
    "language_info": {
      "name": "python"
    }
  },
  "nbformat": 4,
  "nbformat_minor": 0
}
