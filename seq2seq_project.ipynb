{
  "cells": [
    {
      "cell_type": "markdown",
      "metadata": {
        "id": "5pTvZvJM4CiP"
      },
      "source": [
        "**SEQUENCE TO SEQUENCE WITHOUT ATTENTION**"
      ]
    },
    {
      "cell_type": "markdown",
      "metadata": {
        "id": "WR9YfT688-l4"
      },
      "source": [
        "**Synthetic data generation**"
      ]
    },
    {
      "cell_type": "code",
      "execution_count": 1,
      "metadata": {
        "id": "Gyyeaxdp4I6m"
      },
      "outputs": [],
      "source": [
        "import torch\n",
        "import torch.nn as nn\n",
        "import torch.optim as optim\n",
        "import random\n",
        "\n",
        "# Device configuration\n",
        "device = torch.device('cuda' if torch.cuda.is_available() else 'cpu')\n",
        "\n",
        "# Generate dummy data\n",
        "def generate_data(num_samples, seq_len, vocab_size):\n",
        "    data = []\n",
        "    for _ in range(num_samples):\n",
        "        src = [random.randint(1, vocab_size-1) for _ in range(seq_len)]\n",
        "        tgt = src[::-1]  # Reverse the source sequence for the target\n",
        "        data.append((src, tgt))\n",
        "    return data\n",
        "\n",
        "vocab_size = 20\n",
        "seq_len = 10\n",
        "num_samples = 1000\n",
        "data = generate_data(num_samples, seq_len, vocab_size)\n",
        "\n",
        "# Define dummy vocab (for demonstration purposes)\n",
        "vocab = {str(i): i for i in range(vocab_size)}"
      ]
    },
    {
      "cell_type": "markdown",
      "metadata": {
        "id": "SUXfOqs29Cpq"
      },
      "source": [
        "**Data Loader**"
      ]
    },
    {
      "cell_type": "code",
      "execution_count": 2,
      "metadata": {
        "id": "VmRDJsXuGwJq"
      },
      "outputs": [],
      "source": [
        "from torch.utils.data import Dataset, DataLoader\n",
        "\n",
        "class Seq2SeqDataset(Dataset):\n",
        "    def __init__(self, data):\n",
        "        self.data = data\n",
        "\n",
        "    def __len__(self):\n",
        "        return len(self.data)\n",
        "\n",
        "    def __getitem__(self, idx):\n",
        "        src, tgt = self.data[idx]\n",
        "        return torch.tensor(src, dtype=torch.long), torch.tensor(tgt, dtype=torch.long)\n",
        "\n",
        "dataset = Seq2SeqDataset(data)\n",
        "dataloader = DataLoader(dataset, batch_size=32, shuffle=True)\n"
      ]
    },
    {
      "cell_type": "markdown",
      "metadata": {
        "id": "M18J1Jem9Fjw"
      },
      "source": [
        "**Network Architecture**"
      ]
    },
    {
      "cell_type": "code",
      "execution_count": 3,
      "metadata": {
        "id": "cZRzbD4kGxMd"
      },
      "outputs": [],
      "source": [
        "class Encoder(nn.Module):\n",
        "    def __init__(self, input_size, embed_size, hidden_size, num_layers):\n",
        "        super(Encoder, self).__init__()\n",
        "        self.embedding = nn.Embedding(input_size, embed_size)\n",
        "        self.lstm = nn.LSTM(embed_size, hidden_size, num_layers, batch_first=True)\n",
        "\n",
        "    def forward(self, x):\n",
        "        embedding = self.embedding(x)\n",
        "        outputs, (hidden, cell) = self.lstm(embedding)\n",
        "        return hidden, cell\n",
        "\n",
        "class Decoder(nn.Module):\n",
        "    def __init__(self, output_size, embed_size, hidden_size, num_layers):\n",
        "        super(Decoder, self).__init__()\n",
        "        self.output_size = output_size\n",
        "        self.embedding = nn.Embedding(output_size, embed_size)\n",
        "        self.lstm = nn.LSTM(embed_size, hidden_size, num_layers, batch_first=True)\n",
        "        self.fc = nn.Linear(hidden_size, output_size)\n",
        "\n",
        "    def forward(self, x, hidden, cell):\n",
        "        x = x.unsqueeze(1)\n",
        "        embedding = self.embedding(x)\n",
        "        outputs, (hidden, cell) = self.lstm(embedding, (hidden, cell))\n",
        "        predictions = self.fc(outputs.squeeze(1))\n",
        "        return predictions, hidden, cell\n",
        "\n",
        "class Seq2Seq(nn.Module):\n",
        "    def __init__(self, encoder, decoder):\n",
        "        super(Seq2Seq, self).__init__()\n",
        "        self.encoder = encoder\n",
        "        self.decoder = decoder\n",
        "\n",
        "    def forward(self, source, target, teacher_forcing_ratio=0.5):\n",
        "        batch_size = source.shape[0]\n",
        "        target_len = target.shape[1]\n",
        "        target_vocab_size = self.decoder.output_size\n",
        "\n",
        "        outputs = torch.zeros(batch_size, target_len, target_vocab_size).to(device)\n",
        "\n",
        "        hidden, cell = self.encoder(source)\n",
        "\n",
        "        x = target[:, 0]\n",
        "\n",
        "        for t in range(1, target_len):\n",
        "            output, hidden, cell = self.decoder(x, hidden, cell)\n",
        "            outputs[:, t] = output\n",
        "            best_guess = output.argmax(1)\n",
        "            x = target[:, t] if random.random() < teacher_forcing_ratio else best_guess\n",
        "\n",
        "        return outputs\n",
        "\n",
        "# Initialize the model\n",
        "input_size = vocab_size\n",
        "output_size = vocab_size\n",
        "embed_size = 256\n",
        "hidden_size = 512\n",
        "num_layers = 2\n",
        "\n",
        "# attention = Attention(hidden_size)\n",
        "encoder = Encoder(input_size, embed_size, hidden_size, num_layers).to(device)\n",
        "decoder = Decoder(output_size, embed_size, hidden_size, num_layers).to(device)\n",
        "model = Seq2Seq(encoder, decoder).to(device)\n",
        "\n",
        "# Loss and optimizer\n",
        "criterion = nn.CrossEntropyLoss()\n",
        "optimizer = optim.Adam(model.parameters(), lr=0.001)\n"
      ]
    },
    {
      "cell_type": "markdown",
      "metadata": {
        "id": "rDOIpYjV9K4L"
      },
      "source": [
        "**Model training and getting the loss**"
      ]
    },
    {
      "cell_type": "code",
      "execution_count": 4,
      "metadata": {
        "colab": {
          "base_uri": "https://localhost:8080/"
        },
        "id": "3YA6WBiMG5Hq",
        "outputId": "d8d3d99f-91fd-440a-9165-89d85b66ed12"
      },
      "outputs": [
        {
          "name": "stdout",
          "output_type": "stream",
          "text": [
            "Epoch [1/10], Loss: 2.1353\n",
            "Epoch [2/10], Loss: 1.8162\n",
            "Epoch [3/10], Loss: 1.6654\n",
            "Epoch [4/10], Loss: 1.3180\n",
            "Epoch [5/10], Loss: 1.0990\n",
            "Epoch [6/10], Loss: 0.7797\n",
            "Epoch [7/10], Loss: 0.7473\n",
            "Epoch [8/10], Loss: 0.6846\n",
            "Epoch [9/10], Loss: 0.5377\n",
            "Epoch [10/10], Loss: 0.5775\n"
          ]
        }
      ],
      "source": [
        "train_loss_list1 = []\n",
        "num_epochs = 10\n",
        "\n",
        "for epoch in range(num_epochs):\n",
        "    model.train()\n",
        "    running_loss = 0.0\n",
        "    for i, (src, tgt) in enumerate(dataloader):\n",
        "        src, tgt = src.to(device), tgt.to(device)\n",
        "\n",
        "        optimizer.zero_grad()\n",
        "        output = model(src, tgt)\n",
        "\n",
        "        output = output[:, 1:].reshape(-1, output.shape[2])\n",
        "        tgt = tgt[:, 1:].reshape(-1)\n",
        "\n",
        "        loss = criterion(output, tgt)\n",
        "        loss.backward()\n",
        "        optimizer.step()\n",
        "        running_loss += loss.item()\n",
        "\n",
        "    train_loss = running_loss/len(dataloader)\n",
        "    train_loss_list1.append(train_loss)\n",
        "    print(f'Epoch [{epoch+1}/{num_epochs}], Loss: {loss.item():.4f}')\n"
      ]
    },
    {
      "cell_type": "markdown",
      "metadata": {
        "id": "4yw5wkx89P88"
      },
      "source": [
        "**Model evaluation and getting the evaluation metrics**"
      ]
    },
    {
      "cell_type": "code",
      "execution_count": 5,
      "metadata": {
        "colab": {
          "base_uri": "https://localhost:8080/"
        },
        "id": "Z8h6HaMxG8gX",
        "outputId": "50873e35-2721-4330-e926-5e53066a7256"
      },
      "outputs": [
        {
          "name": "stdout",
          "output_type": "stream",
          "text": [
            "Source: [ 5 14  8  4  3  1  2  7 18 16]\n",
            "Target: [18  7  2  1  3  4  8 14  5]\n",
            "Predicted: [18  7  2  1  3  4  8 14  5]\n",
            "\n",
            "Accuracy: 0.84%\n"
          ]
        }
      ],
      "source": [
        "from sklearn.metrics import accuracy_score\n",
        "\n",
        "all_preds = []\n",
        "all_trues = []\n",
        "\n",
        "model.eval()\n",
        "with torch.no_grad():\n",
        "    for i, (src, tgt) in enumerate(dataloader):\n",
        "        src, tgt = src.to(device), tgt.to(device)\n",
        "\n",
        "        output = model(src, tgt, teacher_forcing_ratio=0)\n",
        "        output = output[:, 1:].reshape(-1, output.shape[2])\n",
        "        tgt = tgt[:, 1:].reshape(-1)\n",
        "\n",
        "        pred = output.argmax(1).view(-1, seq_len-1)\n",
        "        print(f'Source: {src[0].cpu().numpy()}')\n",
        "        print(f'Target: {tgt.view(-1, seq_len-1)[0].cpu().numpy()}')\n",
        "        print(f'Predicted: {pred[0].cpu().numpy()}')\n",
        "\n",
        "        preds = output.argmax(1).cpu().numpy()\n",
        "        trues = tgt.cpu().numpy()\n",
        "\n",
        "        all_preds.extend(preds)\n",
        "        all_trues.extend(trues)\n",
        "        break\n",
        "\n",
        "    accuracy = accuracy_score(all_trues, all_preds)\n",
        "    print(f'\\nAccuracy: {accuracy:.2f}%')\n",
        "\n",
        "    metrics1 = {'Attention':'Without attention','Accuracy':round(accuracy,2)}"
      ]
    },
    {
      "cell_type": "markdown",
      "metadata": {
        "id": "pHvtnN962wIE"
      },
      "source": [
        "**SEQUENCE TO SEQUENCE WITH ATTENTION**"
      ]
    },
    {
      "cell_type": "markdown",
      "metadata": {
        "id": "0SKmQm449VEp"
      },
      "source": [
        "**Data Loader**"
      ]
    },
    {
      "cell_type": "code",
      "execution_count": null,
      "metadata": {
        "id": "r3XYiwLt2vdk"
      },
      "outputs": [],
      "source": [
        "from torch.utils.data import Dataset, DataLoader\n",
        "\n",
        "class Seq2SeqDataset(Dataset):\n",
        "    def __init__(self, data):\n",
        "        self.data = data\n",
        "\n",
        "    def __len__(self):\n",
        "        return len(self.data)\n",
        "\n",
        "    def __getitem__(self, idx):\n",
        "        src, tgt = self.data[idx]\n",
        "        return torch.tensor(src, dtype=torch.long), torch.tensor(tgt, dtype=torch.long)\n",
        "\n",
        "dataset = Seq2SeqDataset(data)\n",
        "dataloader = DataLoader(dataset, batch_size=32, shuffle=True)\n"
      ]
    },
    {
      "cell_type": "markdown",
      "metadata": {
        "id": "xUxl-zhH9XYe"
      },
      "source": [
        "**Network Architecture with attention**"
      ]
    },
    {
      "cell_type": "code",
      "execution_count": 6,
      "metadata": {
        "id": "wM3AgglI26ds"
      },
      "outputs": [],
      "source": [
        "class Attention(nn.Module):\n",
        "    def __init__(self, hidden_size):\n",
        "        super(Attention, self).__init__()\n",
        "        self.attn = nn.Linear(hidden_size * 2, hidden_size)\n",
        "        self.v = nn.Parameter(torch.rand(hidden_size))\n",
        "\n",
        "    def forward(self, hidden, encoder_outputs):\n",
        "        max_len = encoder_outputs.size(1)\n",
        "        H = hidden.repeat(max_len, 1, 1).transpose(0, 1)\n",
        "        attn_energies = self.score(H, encoder_outputs)\n",
        "        return torch.softmax(attn_energies, dim=1).unsqueeze(1)\n",
        "\n",
        "    def score(self, hidden, encoder_outputs):\n",
        "        energy = torch.tanh(self.attn(torch.cat([hidden, encoder_outputs], 2)))\n",
        "        energy = energy.transpose(1, 2)\n",
        "        v = self.v.repeat(encoder_outputs.size(0), 1).unsqueeze(1)\n",
        "        energy = torch.bmm(v, energy)\n",
        "        return energy.squeeze(1)\n",
        "\n",
        "class Encoder(nn.Module):\n",
        "    def __init__(self, input_size, embed_size, hidden_size, num_layers):\n",
        "        super(Encoder, self).__init__()\n",
        "        self.embedding = nn.Embedding(input_size, embed_size)\n",
        "        self.lstm = nn.LSTM(embed_size, hidden_size, num_layers, batch_first=True)\n",
        "\n",
        "    def forward(self, x):\n",
        "        embedding = self.embedding(x)\n",
        "        outputs, (hidden, cell) = self.lstm(embedding)\n",
        "        return outputs, hidden, cell\n",
        "\n",
        "class Decoder(nn.Module):\n",
        "    def __init__(self, output_size, embed_size, hidden_size, num_layers, attention):\n",
        "        super(Decoder, self).__init__()\n",
        "        self.output_size = output_size\n",
        "        self.attention = attention\n",
        "        self.embedding = nn.Embedding(output_size, embed_size)\n",
        "        self.lstm = nn.LSTM(hidden_size + embed_size, hidden_size, num_layers, batch_first=True)\n",
        "        self.fc = nn.Linear(hidden_size, output_size)\n",
        "\n",
        "    def forward(self, x, hidden, cell, encoder_outputs):\n",
        "        x = x.unsqueeze(1)\n",
        "        embedding = self.embedding(x)\n",
        "        attn_weights = self.attention(hidden[-1], encoder_outputs)\n",
        "        context = attn_weights.bmm(encoder_outputs)\n",
        "        rnn_input = torch.cat((embedding, context), dim=2)\n",
        "        outputs, (hidden, cell) = self.lstm(rnn_input, (hidden, cell))\n",
        "        predictions = self.fc(outputs.squeeze(1))\n",
        "        return predictions, hidden, cell\n",
        "\n",
        "class Seq2Seq(nn.Module):\n",
        "    def __init__(self, encoder, decoder):\n",
        "        super(Seq2Seq, self).__init__()\n",
        "        self.encoder = encoder\n",
        "        self.decoder = decoder\n",
        "\n",
        "    def forward(self, source, target, teacher_forcing_ratio=0.5):\n",
        "        batch_size = source.shape[0]\n",
        "        target_len = target.shape[1]\n",
        "        target_vocab_size = self.decoder.output_size\n",
        "\n",
        "        outputs = torch.zeros(batch_size, target_len, target_vocab_size).to(device)\n",
        "\n",
        "        encoder_outputs, hidden, cell = self.encoder(source)\n",
        "\n",
        "        x = target[:, 0]\n",
        "\n",
        "        for t in range(1, target_len):\n",
        "            output, hidden, cell = self.decoder(x, hidden, cell, encoder_outputs)\n",
        "            outputs[:, t, :] = output\n",
        "            best_guess = output.argmax(1)\n",
        "            x = target[:, t] if random.random() < teacher_forcing_ratio else best_guess\n",
        "\n",
        "        return outputs\n",
        "\n",
        "# Initialize the model\n",
        "input_size = vocab_size\n",
        "output_size = vocab_size\n",
        "embed_size = 256\n",
        "hidden_size = 512\n",
        "num_layers = 2\n",
        "\n",
        "attention = Attention(hidden_size)\n",
        "encoder = Encoder(input_size, embed_size, hidden_size, num_layers).to(device)\n",
        "decoder = Decoder(output_size, embed_size, hidden_size, num_layers, attention).to(device)\n",
        "model = Seq2Seq(encoder, decoder).to(device)\n",
        "\n",
        "# Loss and optimizer\n",
        "criterion = nn.CrossEntropyLoss()\n",
        "optimizer = optim.Adam(model.parameters(), lr=0.001)\n"
      ]
    },
    {
      "cell_type": "markdown",
      "metadata": {
        "id": "aD3U6uUm9eKB"
      },
      "source": [
        "**Model training and getting the loss**"
      ]
    },
    {
      "cell_type": "code",
      "execution_count": 7,
      "metadata": {
        "colab": {
          "base_uri": "https://localhost:8080/"
        },
        "id": "gdLbEug93ApI",
        "outputId": "abaec446-7847-4819-8035-9cb81c1d5395"
      },
      "outputs": [
        {
          "name": "stdout",
          "output_type": "stream",
          "text": [
            "Epoch [1/10], Loss: 2.1300\n",
            "Epoch [2/10], Loss: 1.7635\n",
            "Epoch [3/10], Loss: 1.3383\n",
            "Epoch [4/10], Loss: 1.0693\n",
            "Epoch [5/10], Loss: 0.8037\n",
            "Epoch [6/10], Loss: 0.2742\n",
            "Epoch [7/10], Loss: 0.0969\n",
            "Epoch [8/10], Loss: 0.2533\n",
            "Epoch [9/10], Loss: 0.0869\n",
            "Epoch [10/10], Loss: 0.0868\n"
          ]
        }
      ],
      "source": [
        "train_loss_list2 = []\n",
        "\n",
        "num_epochs = 10\n",
        "for epoch in range(num_epochs):\n",
        "    model.train()\n",
        "    running_loss = 0.0\n",
        "    for i, (src, tgt) in enumerate(dataloader):\n",
        "        src, tgt = src.to(device), tgt.to(device)\n",
        "\n",
        "        optimizer.zero_grad()\n",
        "        output = model(src, tgt)\n",
        "\n",
        "        output = output[:, 1:].reshape(-1, output.shape[2])\n",
        "        tgt = tgt[:, 1:].reshape(-1)\n",
        "\n",
        "        loss = criterion(output, tgt)\n",
        "        loss.backward()\n",
        "        optimizer.step()\n",
        "        running_loss += loss.item()\n",
        "\n",
        "    train_loss = running_loss/len(dataloader)\n",
        "    train_loss_list2.append(train_loss)\n",
        "\n",
        "    print(f'Epoch [{epoch+1}/{num_epochs}], Loss: {loss.item():.4f}')\n"
      ]
    },
    {
      "cell_type": "markdown",
      "metadata": {
        "id": "LeMdLy8p9jGm"
      },
      "source": [
        "**Model evaluation and getting the evaluation metrics**"
      ]
    },
    {
      "cell_type": "code",
      "execution_count": 8,
      "metadata": {
        "colab": {
          "base_uri": "https://localhost:8080/"
        },
        "id": "JcGATKpj3Ewo",
        "outputId": "56c2d42f-5f1a-445c-c8a0-f4c785bf21c9"
      },
      "outputs": [
        {
          "name": "stdout",
          "output_type": "stream",
          "text": [
            "Source: [11  8 18 16 12  8  2 19 10  4]\n",
            "Target: [10 19  2  8 12 16 18  8 11]\n",
            "Predicted: [10 19  2  8 12 16 18  8 11]\n",
            "\n",
            "Accuracy: 0.99%\n"
          ]
        }
      ],
      "source": [
        "from sklearn.metrics import accuracy_score\n",
        "\n",
        "all_preds = []\n",
        "all_trues = []\n",
        "\n",
        "model.eval()\n",
        "with torch.no_grad():\n",
        "    for i, (src, tgt) in enumerate(dataloader):\n",
        "        src, tgt = src.to(device), tgt.to(device)\n",
        "\n",
        "        output = model(src, tgt, teacher_forcing_ratio=0)\n",
        "        output = output[:, 1:].reshape(-1, output.shape[2])\n",
        "        tgt = tgt[:, 1:].reshape(-1)\n",
        "\n",
        "        pred = output.argmax(1).view(-1, seq_len-1)\n",
        "        print(f'Source: {src[0].cpu().numpy()}')\n",
        "        print(f'Target: {tgt.view(-1, seq_len-1)[0].cpu().numpy()}')\n",
        "        print(f'Predicted: {pred[0].cpu().numpy()}')\n",
        "\n",
        "        preds = output.argmax(1).cpu().numpy()\n",
        "        trues = tgt.cpu().numpy()\n",
        "\n",
        "        all_preds.extend(preds)\n",
        "        all_trues.extend(trues)\n",
        "        break\n",
        "\n",
        "    accuracy = accuracy_score(all_trues, all_preds)\n",
        "    print(f'\\nAccuracy: {accuracy:.2f}%')\n",
        "\n",
        "    metrics2 =  {'Attention':'With attention','Accuracy':round(accuracy,2)}\n"
      ]
    },
    {
      "cell_type": "markdown",
      "metadata": {
        "id": "G8Kj6-YC9_PY"
      },
      "source": [
        "**Plotting loss curve**"
      ]
    },
    {
      "cell_type": "code",
      "execution_count": 9,
      "metadata": {
        "colab": {
          "base_uri": "https://localhost:8080/",
          "height": 472
        },
        "id": "vwCyQ72X-BPZ",
        "outputId": "d2dfadad-f8f6-4dcc-c05e-3af4bcd2aa8b"
      },
      "outputs": [
        {
          "data": {
            "image/png": "[encoded data removed]",
            "text/plain": [
              "<Figure size 640x480 with 1 Axes>"
            ]
          },
          "metadata": {},
          "output_type": "display_data"
        }
      ],
      "source": [
        "# Plot the loss curve\n",
        "import matplotlib.pyplot as plt\n",
        "\n",
        "plt.figure()\n",
        "plt.plot(train_loss_list1, label='Without Attention')\n",
        "plt.plot(train_loss_list2, label='With Attention')\n",
        "plt.xlabel('Epoch')\n",
        "plt.ylabel('Loss')\n",
        "plt.title('Training Loss Curve')\n",
        "plt.legend()\n",
        "plt.show()\n",
        "\n"
      ]
    },
    {
      "cell_type": "markdown",
      "metadata": {
        "id": "1QXK0Jtq9q3D"
      },
      "source": [
        "**Comparing evaluation metrics**"
      ]
    },
    {
      "cell_type": "code",
      "execution_count": 10,
      "metadata": {
        "colab": {
          "base_uri": "https://localhost:8080/"
        },
        "id": "NeeZeA01-ckr",
        "outputId": "bff0ca21-da26-49ac-83fd-a48e132d92a3"
      },
      "outputs": [
        {
          "name": "stdout",
          "output_type": "stream",
          "text": [
            "           Attention  Accuracy\n",
            "0  Without attention      0.84\n",
            "1     With attention      0.99\n"
          ]
        }
      ],
      "source": [
        "import pandas as pd\n",
        "df1 = pd.DataFrame(metrics1, index=[0])\n",
        "df2 = pd.DataFrame(metrics2, index=[0])\n",
        "df = pd.concat([df1,df2],axis=0,ignore_index=True)\n",
        "df.round({'Accuracy':2})\n",
        "print(df)"
      ]
    }
  ],
  "metadata": {
    "accelerator": "GPU",
    "colab": {
      "gpuType": "T4",
      "provenance": []
    },
    "kernelspec": {
      "display_name": "Python 3",
      "name": "python3"
    },
    "language_info": {
      "name": "python"
    }
  },
  "nbformat": 4,
  "nbformat_minor": 0
}
